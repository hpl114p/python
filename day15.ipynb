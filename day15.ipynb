{
 "cells": [
  {
   "cell_type": "code",
   "execution_count": 1,
   "metadata": {},
   "outputs": [],
   "source": [
    "def find_None_index(lst_data):\n",
    "    for i in range(len(lst_data)):\n",
    "        if lst_data[i] == None:\n",
    "            return i\n",
    "    return -1\n",
    "\n",
    "def find_last_None(lst_data, index):\n",
    "    idx_end = len(lst_data)\n",
    "    for i in range(index + 1, len(lst_data)):\n",
    "        if lst_data[i] != None:\n",
    "            idx_end = i\n",
    "            break\n",
    "    return idx_end\n",
    "            "
   ]
  },
  {
   "cell_type": "code",
   "execution_count": 14,
   "metadata": {},
   "outputs": [
    {
     "name": "stdout",
     "output_type": "stream",
     "text": [
      "3\n",
      "4\n"
     ]
    }
   ],
   "source": [
    "lst_data = [2.0, 1.0, 7.0, None]\n",
    "print(find_None_index(lst_data))\n",
    "print(find_last_None(lst_data, find_None_index(lst_data)))"
   ]
  },
  {
   "cell_type": "code",
   "execution_count": 3,
   "metadata": {},
   "outputs": [],
   "source": [
    "def neareat_neighbor(lst_data, none_position):\n",
    "    neareat_neighbor_value = None\n",
    "    neareat_distance = float('inf')\n",
    "    for i in range(len(lst_data)):\n",
    "        if lst_data[i] is not None and abs(none_position - i) < neareat_distance:\n",
    "            neareat_distance = abs(none_position - i)\n",
    "            neareat_neighbor_value = lst_data[i]\n",
    "    return neareat_neighbor_value\n",
    "        "
   ]
  },
  {
   "cell_type": "code",
   "execution_count": 23,
   "metadata": {},
   "outputs": [],
   "source": [
    "def process_data(lst_data):\n",
    "    check = True\n",
    "    while True:\n",
    "        none_value = None\n",
    "        none_index = find_None_index(lst_data)\n",
    "        #print(\"Index None:\", none_index, end=\"\\t\")\n",
    "        if none_index == -1:\n",
    "            break\n",
    "            \n",
    "        # find begin index value\n",
    "        begin_index = none_index - 1\n",
    "        #print(\"Begin not None:\", begin_index, end=\"\\t\")\n",
    "        # find end index value\n",
    "        end_index = find_last_None(lst_data, none_index)\n",
    "        #print(\"End not None:\", end_index, end=\"\\t\")\n",
    "\n",
    "        if begin_index < 0:\n",
    "            none_value = lst_data[end_index]\n",
    "            #print(\"Here: 1\")\n",
    "        elif end_index >= len(lst_data):\n",
    "            none_value = lst_data[begin_index]\n",
    "            #print(\"Here: 2\")\n",
    "        else:\n",
    "            none_value = neareat_neighbor(lst_data, none_index)\n",
    "            #print(\"Here: 3\")\n",
    "\n",
    "        lst_data[none_index] = none_value\n",
    "    return lst_data"
   ]
  },
  {
   "cell_type": "code",
   "execution_count": 24,
   "metadata": {},
   "outputs": [
    {
     "name": "stdout",
     "output_type": "stream",
     "text": [
      "[1, 1.1, 1.1, 1.4, 1.4, 1.5, 1.5, 2.0]\n"
     ]
    }
   ],
   "source": [
    "lst_data = [1, 1.1, None, 1.4, None, 1.5, None, 2.0]\n",
    "print(process_data(lst_data))"
   ]
  },
  {
   "cell_type": "code",
   "execution_count": 25,
   "metadata": {},
   "outputs": [
    {
     "name": "stdout",
     "output_type": "stream",
     "text": [
      "[2.4, 2.4, 2.4, 2.4, 2.4, 2.4, 2.4, 7.0, 7.0, 7.0]\n"
     ]
    }
   ],
   "source": [
    "print(process_data([None, None, None, 2.4, None, None, None, 7.0, None, None]))"
   ]
  },
  {
   "cell_type": "code",
   "execution_count": null,
   "metadata": {},
   "outputs": [],
   "source": []
  },
  {
   "cell_type": "code",
   "execution_count": null,
   "metadata": {},
   "outputs": [],
   "source": []
  }
 ],
 "metadata": {
  "kernelspec": {
   "display_name": "aio",
   "language": "python",
   "name": "python3"
  },
  "language_info": {
   "codemirror_mode": {
    "name": "ipython",
    "version": 3
   },
   "file_extension": ".py",
   "mimetype": "text/x-python",
   "name": "python",
   "nbconvert_exporter": "python",
   "pygments_lexer": "ipython3",
   "version": "3.11.8"
  }
 },
 "nbformat": 4,
 "nbformat_minor": 2
}
