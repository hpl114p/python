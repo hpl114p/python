{
 "cells": [
  {
   "cell_type": "code",
   "execution_count": 12,
   "metadata": {},
   "outputs": [
    {
     "name": "stdout",
     "output_type": "stream",
     "text": [
      "['Tôi', 'thích', 'môn', 'Toán', 'AI', 'âm', 'nhạc']\n"
     ]
    }
   ],
   "source": [
    "corpus = [\"Tôi thích môn Toán\", \"Tôi thích AI\", \"Tôi thích âm nhạc\"]\n",
    "\n",
    "def tokenization(corpus):\n",
    "    list_vocabulary = []\n",
    "    for token in corpus:\n",
    "        list_token = token.split()\n",
    "        for word in list_token:\n",
    "            #word = word.lower()\n",
    "            if word not in list_vocabulary:\n",
    "                list_vocabulary.append(word)\n",
    "    return list_vocabulary\n",
    "\n",
    "vocabulary = tokenization(corpus)\n",
    "print(vocabulary)"
   ]
  },
  {
   "cell_type": "code",
   "execution_count": 19,
   "metadata": {},
   "outputs": [
    {
     "name": "stdout",
     "output_type": "stream",
     "text": [
      "['Tôi', 'thích', 'môn', 'Toán', 'AI', 'âm', 'nhạc']\n",
      "[1, 2, 0, 1, 1, 0, 0]\n"
     ]
    }
   ],
   "source": [
    "def vectorize(text):\n",
    "    text_split = list(map(str, text.split()))\n",
    "    vector = [text_split.count(word) for word in vocabulary]\n",
    "    return vector\n",
    "\n",
    "text = \"Tôi thích AI thích Toán\"\n",
    "vector = vectorize(text)\n",
    "print(vocabulary)\n",
    "print(vector)\n",
    "\n"
   ]
  },
  {
   "cell_type": "code",
   "execution_count": null,
   "metadata": {},
   "outputs": [],
   "source": []
  }
 ],
 "metadata": {
  "kernelspec": {
   "display_name": "aio",
   "language": "python",
   "name": "python3"
  },
  "language_info": {
   "codemirror_mode": {
    "name": "ipython",
    "version": 3
   },
   "file_extension": ".py",
   "mimetype": "text/x-python",
   "name": "python",
   "nbconvert_exporter": "python",
   "pygments_lexer": "ipython3",
   "version": "3.11.8"
  }
 },
 "nbformat": 4,
 "nbformat_minor": 2
}
