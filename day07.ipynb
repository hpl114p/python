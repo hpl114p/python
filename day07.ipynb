{
 "cells": [
  {
   "cell_type": "markdown",
   "metadata": {},
   "source": [
    "Câu 1: Tạo mới một List có tên là lst_data, gồm các số chẵn từ 1 đến 12. "
   ]
  },
  {
   "cell_type": "code",
   "execution_count": 18,
   "metadata": {},
   "outputs": [
    {
     "name": "stdout",
     "output_type": "stream",
     "text": [
      "[2, 4, 6, 8, 10, 12]\n"
     ]
    }
   ],
   "source": [
    "lst_data = list()\n",
    "for i in range(1, 13):\n",
    "    if(i % 2 == 0):\n",
    "        lst_data.append(i)\n",
    "\n",
    "print(lst_data)"
   ]
  },
  {
   "cell_type": "markdown",
   "metadata": {},
   "source": [
    "Câu 2: Xóa tất cả các số chia hết cho 3 trong lst_data vừa tạo"
   ]
  },
  {
   "cell_type": "code",
   "execution_count": 19,
   "metadata": {},
   "outputs": [
    {
     "name": "stdout",
     "output_type": "stream",
     "text": [
      "[2, 4, 8, 10]\n"
     ]
    }
   ],
   "source": [
    "for i in lst_data:\n",
    "    if(i % 3 == 0):\n",
    "        lst_data.remove(i)\n",
    "\n",
    "print(lst_data)"
   ]
  },
  {
   "cell_type": "markdown",
   "metadata": {},
   "source": [
    "Câu 3: Thêm vào cuối lst_data các số từ 1 đến 3, và thêm vào vị trí index = 3 một chuỗi các số từ 6 đến 8"
   ]
  },
  {
   "cell_type": "code",
   "execution_count": 20,
   "metadata": {},
   "outputs": [
    {
     "name": "stdout",
     "output_type": "stream",
     "text": [
      "[2, 4, 8, 6, 7, 8, 10, 1, 2, 3]\n"
     ]
    }
   ],
   "source": [
    "for i in range(1, 4):\n",
    "    lst_data.append(i)\n",
    "\n",
    "lst_data[3:3] = [6, 7, 8]\n",
    "# for i in range(8, 5, -1):\n",
    "#     lst_data.insert(3, i)\n",
    "\n",
    "print(lst_data)"
   ]
  },
  {
   "cell_type": "markdown",
   "metadata": {},
   "source": [
    "Câu 4: Nếu các số trong list lst_data chia hết cho 2 hoặc chia hết cho 5 thì cập nhật thành số 0"
   ]
  },
  {
   "cell_type": "code",
   "execution_count": 17,
   "metadata": {},
   "outputs": [
    {
     "name": "stdout",
     "output_type": "stream",
     "text": [
      "[0, 0, 0, 0, 7, 0, 0, 1, 0, 3]\n"
     ]
    }
   ],
   "source": [
    "for i in range(0, len(lst_data)):\n",
    "    if(lst_data[i] % 2 == 0 or lst_data[i] % 5 == 0):\n",
    "        lst_data[i] = 0\n",
    "    \n",
    "print(lst_data)"
   ]
  },
  {
   "cell_type": "code",
   "execution_count": null,
   "metadata": {},
   "outputs": [],
   "source": []
  }
 ],
 "metadata": {
  "kernelspec": {
   "display_name": "aio",
   "language": "python",
   "name": "python3"
  },
  "language_info": {
   "codemirror_mode": {
    "name": "ipython",
    "version": 3
   },
   "file_extension": ".py",
   "mimetype": "text/x-python",
   "name": "python",
   "nbconvert_exporter": "python",
   "pygments_lexer": "ipython3",
   "version": "3.11.8"
  }
 },
 "nbformat": 4,
 "nbformat_minor": 2
}
