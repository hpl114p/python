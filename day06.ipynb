{
 "cells": [
  {
   "cell_type": "markdown",
   "metadata": {},
   "source": [
    "Viết chương trình nhập đầu vào là thời gian để xem hoạt động của TOM.\n",
    "Input:  5AM\n",
    "        6AM\n",
    "        7AM\n",
    "        Giá trị khác\n",
    "Output: Wake up\n",
    "        Yoga\n",
    "        Work\n",
    "        Do something else"
   ]
  },
  {
   "cell_type": "markdown",
   "metadata": {},
   "source": [
    "1. Sử dụng if-elif-else"
   ]
  },
  {
   "cell_type": "code",
   "execution_count": 4,
   "metadata": {},
   "outputs": [
    {
     "name": "stdout",
     "output_type": "stream",
     "text": [
      "Do something else\n"
     ]
    }
   ],
   "source": [
    "time = input(\"Input time: \")\n",
    "time = time + \"AM\"\n",
    "\n",
    "if time == \"5AM\":\n",
    "    print(\"Wake up\")\n",
    "elif time == \"6AM\":\n",
    "    print(\"Yoga\")\n",
    "elif time == \"7AM\":\n",
    "    print(\"Work\")\n",
    "else:\n",
    "    print(\"Do something else\")"
   ]
  },
  {
   "cell_type": "markdown",
   "metadata": {},
   "source": [
    "2. Dictionary"
   ]
  },
  {
   "cell_type": "code",
   "execution_count": 9,
   "metadata": {},
   "outputs": [
    {
     "name": "stdout",
     "output_type": "stream",
     "text": [
      "Do something else\n"
     ]
    }
   ],
   "source": [
    "todo = {\"5AM\":\"Wake up\", \n",
    "        \"6AM\": \"Yoga\",\n",
    "        \"7AM\": \"Work\"}\n",
    "\n",
    "time = input(\"Input time: \")\n",
    "time = time + \"AM\"\n",
    "print(todo.get(time, \"Do something else\"))"
   ]
  },
  {
   "cell_type": "markdown",
   "metadata": {},
   "source": [
    "3. Match case"
   ]
  },
  {
   "cell_type": "code",
   "execution_count": 14,
   "metadata": {},
   "outputs": [
    {
     "name": "stdout",
     "output_type": "stream",
     "text": [
      "Do something else\n"
     ]
    }
   ],
   "source": [
    "time = input(\"Input time: \")\n",
    "time = time + \"AM\"\n",
    "\n",
    "match time:\n",
    "    case \"5AM\":\n",
    "        print(\"Wake up\")\n",
    "    case \"6AM\":\n",
    "        print(\"Yoga\")\n",
    "    case \"7AM\":\n",
    "        print(\"Work\")\n",
    "    case _:\n",
    "        print(\"Do something else\")"
   ]
  },
  {
   "cell_type": "code",
   "execution_count": null,
   "metadata": {},
   "outputs": [],
   "source": []
  }
 ],
 "metadata": {
  "kernelspec": {
   "display_name": "aio",
   "language": "python",
   "name": "python3"
  },
  "language_info": {
   "codemirror_mode": {
    "name": "ipython",
    "version": 3
   },
   "file_extension": ".py",
   "mimetype": "text/x-python",
   "name": "python",
   "nbconvert_exporter": "python",
   "pygments_lexer": "ipython3",
   "version": "3.11.8"
  }
 },
 "nbformat": 4,
 "nbformat_minor": 2
}
