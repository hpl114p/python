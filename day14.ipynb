{
 "cells": [
  {
   "cell_type": "markdown",
   "metadata": {},
   "source": [
    "## **Câu 1:**  \n",
    "Viết chương trình tạo hai Numpy array, Pytorch tensor, Tensorflow tensor với các giá trị nguyên ngẫu nhiên trong khoảng [-10, 10) với kích thước (3, 4). Sau đó chuyển vị array, tensor thứ 2 và thực hiện phép nhân matrix multiplication. Lưu ý: sử dụng seed=2024"
   ]
  },
  {
   "cell_type": "code",
   "execution_count": 1,
   "metadata": {},
   "outputs": [],
   "source": [
    "import numpy as np\n",
    "import torch\n",
    "import tensorflow as tf"
   ]
  },
  {
   "cell_type": "code",
   "execution_count": 42,
   "metadata": {},
   "outputs": [
    {
     "name": "stdout",
     "output_type": "stream",
     "text": [
      "[[ -2 -10 -10  -6]\n",
      " [ -1  -9  -7   0]\n",
      " [ -8 -10  -5   7]]\n",
      "[[ 5  0  4  5]\n",
      " [ 1 -3  8 -1]\n",
      " [-4  0 -9 -5]]\n",
      "tensor([[  2,   0,  -6, -10],\n",
      "        [ -7, -10,   0,   1],\n",
      "        [  3,   9,   7,  -6]])\n",
      "tensor([[  1,   8,   0,  -2],\n",
      "        [ -9, -10,  -9,   0],\n",
      "        [ -3,  -7,  -4,   8]])\n",
      "tf.Tensor(\n",
      "[[-6 -2  0 -2]\n",
      " [ 4  4 -9  3]\n",
      " [ 7  1  2 -5]], shape=(3, 4), dtype=int32)\n",
      "tf.Tensor(\n",
      "[[-3 -7  9  3]\n",
      " [ 2 -5 -3 -5]\n",
      " [ 4 -3 -3  5]], shape=(3, 4), dtype=int32)\n"
     ]
    }
   ],
   "source": [
    "# Numpy\n",
    "np.random.seed(2024)\n",
    "arr_1 = np.random.randint(-10, 10, (3, 4))\n",
    "arr_2 = np.random.randint(-10, 10, (3, 4))\n",
    "print(arr_1)\n",
    "print(arr_2)\n",
    "\n",
    "# Pytorch\n",
    "torch.manual_seed(2024)\n",
    "tensor_1_pt = torch.randint(-10, 10, (3, 4))\n",
    "tensor_2_pt = torch.randint(-10, 10, (3, 4))\n",
    "print(tensor_1_pt)\n",
    "print(tensor_2_pt)\n",
    "\n",
    "# Tensorflow\n",
    "tf.random.set_seed(2024)\n",
    "tensor_1_tf = tf.random.uniform((3, 4), minval=-10, maxval=10, dtype=tf.int32)\n",
    "tensor_2_tf = tf.random.uniform((3, 4), minval=-10, maxval=10, dtype=tf.int32)\n",
    "print(tensor_1_tf)\n",
    "print(tensor_2_tf)\n"
   ]
  },
  {
   "cell_type": "code",
   "execution_count": 43,
   "metadata": {},
   "outputs": [
    {
     "name": "stdout",
     "output_type": "stream",
     "text": [
      "[[ 5  1 -4]\n",
      " [ 0 -3  0]\n",
      " [ 4  8 -9]\n",
      " [ 5 -1 -5]]\n",
      "tensor([[  1,  -9,  -3],\n",
      "        [  8, -10,  -7],\n",
      "        [  0,  -9,  -4],\n",
      "        [ -2,   0,   8]])\n",
      "tf.Tensor(\n",
      "[[-3  2  4]\n",
      " [-7 -5 -3]\n",
      " [ 9 -3 -3]\n",
      " [ 3 -5  5]], shape=(4, 3), dtype=int32)\n"
     ]
    }
   ],
   "source": [
    "# Numpy\n",
    "arr_2 = np.transpose(arr_2)\n",
    "#arr_2 = arr_2.T\n",
    "print(arr_2)\n",
    "\n",
    "# Pytorch\n",
    "tensor_2_pt = torch.t(tensor_2_pt)\n",
    "#tensor_2_pt = torch.transpose(tensor_2_pt, 0, 1)\n",
    "#tensor_2_pt = tensor_2_pt.T\n",
    "print(tensor_2_pt)\n",
    "\n",
    "# Tensorflow\n",
    "tensor_2_tf = tf.transpose(tensor_2_tf)\n",
    "print(tensor_2_tf)"
   ]
  },
  {
   "cell_type": "code",
   "execution_count": 44,
   "metadata": {},
   "outputs": [
    {
     "name": "stdout",
     "output_type": "stream",
     "text": [
      "[[-80 -46 128]\n",
      " [-33 -30  67]\n",
      " [-25 -25  42]]\n",
      "tensor([[  22,   36,  -62],\n",
      "        [ -89,  163,   99],\n",
      "        [  87, -180, -148]])\n",
      "tf.Tensor(\n",
      "[[  26    8  -28]\n",
      " [-112    0   46]\n",
      " [ -25   28   -6]], shape=(3, 3), dtype=int32)\n"
     ]
    }
   ],
   "source": [
    "# Numpy\n",
    "matmul_arr = np.matmul(arr_1, arr_2)\n",
    "print(matmul_arr)\n",
    "\n",
    "# Pytorch\n",
    "matmul_tensor_pt = torch.matmul(tensor_1_pt, tensor_2_pt)\n",
    "print(matmul_tensor_pt)\n",
    "\n",
    "# Tensorflow\n",
    "matmul_tensor_tf = tf.matmul(tensor_1_tf, tensor_2_tf)\n",
    "print(matmul_tensor_tf)"
   ]
  },
  {
   "cell_type": "markdown",
   "metadata": {},
   "source": [
    "## **Câu 2:** \n",
    "Viết chương trình tạo một Numpy array, Pytorch tensor, Tensorflow tensor với các giá trị số nguyên ngẫu nhiên trong khoảng [-10, 10) với kích thước (3, 3). Sau đó hãy tính tổng của toàn bộ tensor, array, tiếp theo tính tổng theo chiều dọc, chiều ngang . Lưu ý: sử dụng seed=2024"
   ]
  },
  {
   "cell_type": "code",
   "execution_count": 53,
   "metadata": {},
   "outputs": [
    {
     "name": "stdout",
     "output_type": "stream",
     "text": [
      "[[ -2 -10 -10]\n",
      " [ -6  -1  -9]\n",
      " [ -7   0  -8]]\n",
      "Tổng array: -53\n",
      "Tổng array chiều dọc: [-15 -11 -27]\n",
      "Tổng array chiều ngang: [-22 -16 -15]\n"
     ]
    }
   ],
   "source": [
    "# Numpy (array)\n",
    "np.random.seed(2024)\n",
    "arr_np = np.random.randint(-10, 10, (3, 3))\n",
    "print(arr_np)\n",
    "print(\"Tổng array:\", np.sum(arr_np))\n",
    "print(\"Tổng array chiều dọc:\", np.sum(arr_np, axis=0))\n",
    "print(\"Tổng array chiều ngang:\", np.sum(arr_np, axis=1))"
   ]
  },
  {
   "cell_type": "code",
   "execution_count": 54,
   "metadata": {},
   "outputs": [
    {
     "name": "stdout",
     "output_type": "stream",
     "text": [
      "tensor([[  2,   0,  -6],\n",
      "        [-10,  -7, -10],\n",
      "        [  0,   1,   3]])\n",
      "Tổng tensor: tensor(-27)\n",
      "Tổng tensor chiều dọc: tensor([ -8,  -6, -13])\n",
      "Tổng tensor chiều ngang: tensor([ -4, -27,   4])\n"
     ]
    }
   ],
   "source": [
    "# Pytorch (Tensor)\n",
    "torch.manual_seed(2024)\n",
    "\n",
    "tensor_pt = torch.randint(-10, 10, (3, 3))\n",
    "print(tensor_pt)\n",
    "print(\"Tổng tensor:\", torch.sum(tensor_pt))\n",
    "print(\"Tổng tensor chiều dọc:\", torch.sum(tensor_pt, axis=0))\n",
    "print(\"Tổng tensor chiều ngang:\", torch.sum(tensor_pt, axis=1))"
   ]
  },
  {
   "cell_type": "code",
   "execution_count": 56,
   "metadata": {},
   "outputs": [
    {
     "name": "stdout",
     "output_type": "stream",
     "text": [
      "tf.Tensor(\n",
      "[[-6 -2  0]\n",
      " [-2  4  4]\n",
      " [-9  3  7]], shape=(3, 3), dtype=int32)\n",
      "Tổng tensor: tf.Tensor(-1, shape=(), dtype=int32)\n",
      "Tổng tensor chiều dọc: tf.Tensor([-17   5  11], shape=(3,), dtype=int32)\n",
      "Tổng tensor chiều ngang: tf.Tensor([-8  6  1], shape=(3,), dtype=int32)\n"
     ]
    }
   ],
   "source": [
    "# Tensorflow (Tensor)\n",
    "tf.random.set_seed(2024)\n",
    "\n",
    "tensor_tf = tf.random.uniform((3, 3), minval=-10, maxval=10, dtype=tf.int32)\n",
    "print(tensor_tf)\n",
    "print(\"Tổng tensor:\", tf.reduce_sum(tensor_tf))\n",
    "print(\"Tổng tensor chiều dọc:\", tf.reduce_sum(tensor_tf, axis=0))\n",
    "print(\"Tổng tensor chiều ngang:\", tf.reduce_sum(tensor_tf, axis=1))"
   ]
  }
 ],
 "metadata": {
  "kernelspec": {
   "display_name": "aio",
   "language": "python",
   "name": "python3"
  },
  "language_info": {
   "codemirror_mode": {
    "name": "ipython",
    "version": 3
   },
   "file_extension": ".py",
   "mimetype": "text/x-python",
   "name": "python",
   "nbconvert_exporter": "python",
   "pygments_lexer": "ipython3",
   "version": "3.11.8"
  }
 },
 "nbformat": 4,
 "nbformat_minor": 2
}
