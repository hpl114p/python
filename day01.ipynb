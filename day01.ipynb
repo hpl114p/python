{
 "cells": [
  {
   "cell_type": "code",
   "execution_count": 1,
   "metadata": {},
   "outputs": [],
   "source": [
    "def calculate_can_chi_calendar(year):\n",
    "  result = ''\n",
    "  du_can = year % 10\n",
    "  du_chi = year % 12\n",
    "\n",
    "  if(du_can == 0):\n",
    "    result += 'Canh'\n",
    "  elif(du_can == 1):\n",
    "    result += 'Tân'\n",
    "  elif(du_can == 2):\n",
    "    result += 'Nhâm'\n",
    "  elif(du_can == 3):\n",
    "    result += 'Quý'\n",
    "  elif(du_can == 4):\n",
    "    result += 'Giáp'\n",
    "  elif(du_can == 5):\n",
    "    result += 'Ất'\n",
    "  elif(du_can == 6):\n",
    "    result += 'Bính'\n",
    "  elif(du_can == 7):\n",
    "    result += 'Đinh'\n",
    "  elif(du_can == 8):\n",
    "    result += 'Mậu'\n",
    "  else:\n",
    "    reuslt += 'Kỷ'\n",
    "\n",
    "  if(du_chi == 0):\n",
    "    result += ' Thân'\n",
    "  elif(du_chi == 1):\n",
    "    result += ' Dậu'\n",
    "  elif(du_chi == 2):\n",
    "    result += ' Tuất'\n",
    "  elif(du_chi == 3):\n",
    "    result += ' Hợi'\n",
    "  elif(du_chi == 4):\n",
    "    result += ' Tý'\n",
    "  elif(du_chi == 5):\n",
    "    result += ' Sửu'\n",
    "  elif(du_chi == 6):\n",
    "    result += ' Dần'\n",
    "  elif(du_chi == 7):\n",
    "    result += ' Mẹo'\n",
    "  elif(du_chi == 8):\n",
    "    result += ' Thìn'\n",
    "  elif(du_chi == 9):\n",
    "    result += ' Tỵ'\n",
    "  elif(du_chi == 10):\n",
    "    result += ' Ngọ'\n",
    "  else:\n",
    "    reuslt += ' Mùi'\n",
    "\n",
    "  return result\n"
   ]
  },
  {
   "cell_type": "code",
   "execution_count": 2,
   "metadata": {},
   "outputs": [
    {
     "name": "stdout",
     "output_type": "stream",
     "text": [
      "Giáp Thìn\n",
      "Quý Mẹo\n",
      "Đinh Sửu\n"
     ]
    }
   ],
   "source": [
    "print(calculate_can_chi_calendar(2024))\n",
    "print(calculate_can_chi_calendar(2023))\n",
    "print(calculate_can_chi_calendar(1997))\n"
   ]
  },
  {
   "cell_type": "code",
   "execution_count": null,
   "metadata": {},
   "outputs": [],
   "source": []
  }
 ],
 "metadata": {
  "kernelspec": {
   "display_name": "aio",
   "language": "python",
   "name": "python3"
  },
  "language_info": {
   "codemirror_mode": {
    "name": "ipython",
    "version": 3
   },
   "file_extension": ".py",
   "mimetype": "text/x-python",
   "name": "python",
   "nbconvert_exporter": "python",
   "pygments_lexer": "ipython3",
   "version": "3.11.8"
  }
 },
 "nbformat": 4,
 "nbformat_minor": 2
}
