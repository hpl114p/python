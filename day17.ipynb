{
 "cells": [
  {
   "cell_type": "code",
   "execution_count": 7,
   "metadata": {},
   "outputs": [
    {
     "name": "stdout",
     "output_type": "stream",
     "text": [
      "[[1, 3], [4, 6], [7, 9]]\n"
     ]
    }
   ],
   "source": [
    "lst_data = [[1, 2, 3], \n",
    "            [4, 5, 6],\n",
    "            [7, 8, 9]]\n",
    "\n",
    "lst_sub_data = list()\n",
    "for row in lst_data:\n",
    "    list_index_even = list()\n",
    "    for idx in range(len(row)):\n",
    "        if idx == 1:\n",
    "            continue\n",
    "        list_index_even.append(row[idx])\n",
    "    lst_sub_data.append(list_index_even)\n",
    "\n",
    "print(lst_sub_data)"
   ]
  },
  {
   "cell_type": "markdown",
   "metadata": {},
   "source": [
    "### Bài tập"
   ]
  },
  {
   "cell_type": "markdown",
   "metadata": {},
   "source": [
    "Câu 1: Hãy tính tổng và hiệu 2 ma trận A + B, A - B \n",
    "Câu 2: Hãy tính dot product 2 ma trận A và B"
   ]
  },
  {
   "cell_type": "code",
   "execution_count": 32,
   "metadata": {},
   "outputs": [],
   "source": [
    "mat_a = [[1, 2, 3],\n",
    "         [4, 5, 6],\n",
    "         [7, 8, 9]]\n",
    "mat_b = [[2, 4, 6], \n",
    "         [1, 3, 5],\n",
    "         [1, 0, 1]]\n",
    "\n",
    "\n",
    "def sum_matrix(mat_a, mat_b):\n",
    "\n",
    "    sum_mat = list()\n",
    "    for idx_row in range(len(mat_a)):\n",
    "        sum_item_row = list()\n",
    "        for idx_item in range(len(mat_a[idx_row])):\n",
    "            sum_item_row.append(mat_a[idx_row][idx_item] + mat_b[idx_row][idx_item])\n",
    "        sum_mat.append(sum_item_row)\n",
    "    return sum_mat\n",
    "\n",
    "def minus_matrix(mat_a, mat_b):\n",
    "    minus_mat = list()\n",
    "    for idx_row in range(len(mat_a)):\n",
    "        minus_item_row = list()\n",
    "        for idx_item in range(len(mat_a[idx_row])):\n",
    "            minus_item_row.append(mat_a[idx_row][idx_item] - mat_b[idx_row][idx_item])\n",
    "        minus_mat.append(minus_item_row)\n",
    "    return minus_mat\n",
    "\n",
    "def dot_product(mat_a, mat_b):\n",
    "    dot_mat = list()\n",
    "    for m in range(len(mat_a)):\n",
    "        dot_row = list()\n",
    "        for p in range(len(mat_b[0])):\n",
    "            item = 0\n",
    "            for n in range(len(mat_b)):\n",
    "                item += mat_a[m][n] * mat_b[n][p]\n",
    "            dot_row.append(item)\n",
    "        dot_mat.append(dot_row)\n",
    "    return dot_mat"
   ]
  },
  {
   "cell_type": "code",
   "execution_count": 33,
   "metadata": {},
   "outputs": [
    {
     "name": "stdout",
     "output_type": "stream",
     "text": [
      "[[3, 6, 9], [5, 8, 11], [8, 8, 10]]\n",
      "[[-1, -2, -3], [3, 2, 1], [6, 8, 8]]\n",
      "[[7, 10, 19], [19, 31, 55], [31, 52, 91]]\n"
     ]
    }
   ],
   "source": [
    "sum_mat = sum_matrix(mat_a, mat_b)\n",
    "print(sum_mat)\n",
    "minus_mat = minus_matrix(mat_a, mat_b)\n",
    "print(minus_mat)\n",
    "\n",
    "dot_mat = dot_product(mat_a, mat_b)\n",
    "print(dot_mat)"
   ]
  },
  {
   "cell_type": "code",
   "execution_count": null,
   "metadata": {},
   "outputs": [],
   "source": []
  }
 ],
 "metadata": {
  "kernelspec": {
   "display_name": "aio",
   "language": "python",
   "name": "python3"
  },
  "language_info": {
   "codemirror_mode": {
    "name": "ipython",
    "version": 3
   },
   "file_extension": ".py",
   "mimetype": "text/x-python",
   "name": "python",
   "nbconvert_exporter": "python",
   "pygments_lexer": "ipython3",
   "version": "3.11.8"
  }
 },
 "nbformat": 4,
 "nbformat_minor": 2
}
