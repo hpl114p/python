{
 "cells": [
  {
   "cell_type": "code",
   "execution_count": 2,
   "metadata": {},
   "outputs": [
    {
     "name": "stdout",
     "output_type": "stream",
     "text": [
      "1. Cà rốt\n",
      "2. Táo\n",
      "3. Sữa\n"
     ]
    }
   ],
   "source": [
    "shopping_list = [\"Cà rốt\", \"Táo\", \"Sữa\"]\n",
    "\n",
    "for index, item in enumerate(shopping_list, start=1):\n",
    "    print(f\"{index}. {item}\")"
   ]
  },
  {
   "cell_type": "code",
   "execution_count": 3,
   "metadata": {},
   "outputs": [
    {
     "name": "stdout",
     "output_type": "stream",
     "text": [
      "Sữa được tìm thấy ở hàng 1 và cột 3.\n",
      "Táo được tìm thấy ở hàng 2 và cột 2.\n",
      "Cà rốt được tìm thấy ở hàng 3 và cột 1.\n"
     ]
    }
   ],
   "source": [
    "food_list = [[\"Bơ\", \"Pizza\", \"Sữa\"],\n",
    "             [\"Xúc xích\", \"Táo\", \"Kem\"],\n",
    "             [\"Cà rốt\", \"Bánh dâu\", \"Cupcake\"]]\n",
    "\n",
    "search_items = [\"Cà rốt\", \"Táo\", \"Sữa\"]\n",
    "\n",
    "for i, row in enumerate(food_list, start=1):\n",
    "    for j, item in enumerate(row, start=1):\n",
    "        if item in search_items:\n",
    "            print(f\"{item} được tìm thấy ở hàng {i} và cột {j}.\")"
   ]
  },
  {
   "cell_type": "code",
   "execution_count": null,
   "metadata": {},
   "outputs": [],
   "source": []
  }
 ],
 "metadata": {
  "kernelspec": {
   "display_name": "aio",
   "language": "python",
   "name": "python3"
  },
  "language_info": {
   "codemirror_mode": {
    "name": "ipython",
    "version": 3
   },
   "file_extension": ".py",
   "mimetype": "text/x-python",
   "name": "python",
   "nbconvert_exporter": "python",
   "pygments_lexer": "ipython3",
   "version": "3.11.8"
  }
 },
 "nbformat": 4,
 "nbformat_minor": 2
}
