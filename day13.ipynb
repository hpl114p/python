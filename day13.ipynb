{
 "cells": [
  {
   "cell_type": "code",
   "execution_count": 1,
   "metadata": {},
   "outputs": [
    {
     "name": "stdout",
     "output_type": "stream",
     "text": [
      "2\n"
     ]
    }
   ],
   "source": [
    "def search_None_first(lst_data):\n",
    "    for idx, item in enumerate(lst_data):\n",
    "        if(item == None):\n",
    "            return idx\n",
    "        \n",
    "def search_None(lst_data):\n",
    "    list_index = list()\n",
    "    for idx, item in enumerate(lst_data):\n",
    "        if item == None:\n",
    "            list_index.append(idx)\n",
    "    return list_index\n"
   ]
  },
  {
   "cell_type": "code",
   "execution_count": 5,
   "metadata": {},
   "outputs": [
    {
     "name": "stdout",
     "output_type": "stream",
     "text": [
      "Vị trí None đầu tiên: 2\n",
      "Danh sách vị trí có giá trị None: [2, 4, 6]\n"
     ]
    }
   ],
   "source": [
    "lst_data = [1, 1.1, None, 1.4, None, 1.5, None, 2.0]\n",
    "first_index = search_None_first(lst_data)\n",
    "print(\"Vị trí None đầu tiên:\", first_index)\n",
    "\n",
    "list_index = search_None(lst_data)\n",
    "print(\"Danh sách vị trí có giá trị None:\", list_index)"
   ]
  },
  {
   "cell_type": "code",
   "execution_count": null,
   "metadata": {},
   "outputs": [],
   "source": []
  }
 ],
 "metadata": {
  "kernelspec": {
   "display_name": "aio",
   "language": "python",
   "name": "python3"
  },
  "language_info": {
   "codemirror_mode": {
    "name": "ipython",
    "version": 3
   },
   "file_extension": ".py",
   "mimetype": "text/x-python",
   "name": "python",
   "nbconvert_exporter": "python",
   "pygments_lexer": "ipython3",
   "version": "3.11.8"
  }
 },
 "nbformat": 4,
 "nbformat_minor": 2
}
