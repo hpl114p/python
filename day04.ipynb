{
 "cells": [
  {
   "cell_type": "code",
   "execution_count": 1,
   "metadata": {},
   "outputs": [
    {
     "name": "stdout",
     "output_type": "stream",
     "text": [
      "Alice is a great teacher!\n"
     ]
    }
   ],
   "source": [
    "# Cau 1: Su dung f-string\n",
    "\n",
    "name = 'Alice'\n",
    "print(f'{name} is a great teacher!')"
   ]
  },
  {
   "cell_type": "code",
   "execution_count": 3,
   "metadata": {},
   "outputs": [
    {
     "name": "stdout",
     "output_type": "stream",
     "text": [
      "Ms Taylor\n",
      "ms taylor\n",
      "MS TAYLOR\n"
     ]
    }
   ],
   "source": [
    "# Cau 2: Changing case\n",
    "\n",
    "name = input('Nhap chuoi: ')\n",
    "print(name.title())\n",
    "print(name.lower())\n",
    "print(name.upper())\n",
    "\n",
    "# ms Taylor"
   ]
  },
  {
   "cell_type": "code",
   "execution_count": null,
   "metadata": {},
   "outputs": [],
   "source": []
  }
 ],
 "metadata": {
  "kernelspec": {
   "display_name": "aio",
   "language": "python",
   "name": "python3"
  },
  "language_info": {
   "codemirror_mode": {
    "name": "ipython",
    "version": 3
   },
   "file_extension": ".py",
   "mimetype": "text/x-python",
   "name": "python",
   "nbconvert_exporter": "python",
   "pygments_lexer": "ipython3",
   "version": "3.11.8"
  }
 },
 "nbformat": 4,
 "nbformat_minor": 2
}
