{
 "cells": [
  {
   "cell_type": "code",
   "execution_count": 2,
   "metadata": {},
   "outputs": [],
   "source": [
    "import math"
   ]
  },
  {
   "cell_type": "code",
   "execution_count": 3,
   "metadata": {},
   "outputs": [],
   "source": [
    "def quadratic_equation(a, b, c):\n",
    "  x1 = 0\n",
    "  x2 = 0\n",
    "\n",
    "  delta = b*b - 4*a*c\n",
    "\n",
    "  if(a != 0):\n",
    "    if(delta > 0):\n",
    "      print(f'x1 = {(-b - math.sqrt(delta)) / (2*a)} va x2 = {(-b + math.sqrt(delta)) / (2*a)}')\n",
    "    elif(delta == 0):\n",
    "      print(f'x = {-b / 2*a}')\n",
    "    else:\n",
    "      print('Phuong trinh vo nghiem!')\n",
    "  else:\n",
    "    if(b != 0):\n",
    "      print(f'Phuong trinh co nghiem duy nhat x = {-c / b}')\n",
    "    elif(b == 0 and c == 0):\n",
    "      print('Phuong trinh co vsn!')\n",
    "    elif(b == 0 and c != 0):\n",
    "      print('Phuong trinh vo nghiem!')"
   ]
  },
  {
   "cell_type": "code",
   "execution_count": 4,
   "metadata": {},
   "outputs": [
    {
     "name": "stdout",
     "output_type": "stream",
     "text": [
      "x1 = -2.0 va x2 = -1.0\n",
      "x = -1.0\n",
      "Phuong trinh vo nghiem!\n"
     ]
    }
   ],
   "source": [
    "quadratic_equation(2, 6, 4)\n",
    "quadratic_equation(1, 2, 1)\n",
    "quadratic_equation(4, 6, 3)"
   ]
  },
  {
   "cell_type": "code",
   "execution_count": 5,
   "metadata": {},
   "outputs": [
    {
     "name": "stdout",
     "output_type": "stream",
     "text": [
      "Phuong trinh co nghiem duy nhat x = -0.6666666666666666\n",
      "Phuong trinh co vsn!\n",
      "Phuong trinh vo nghiem!\n"
     ]
    }
   ],
   "source": [
    "quadratic_equation(0, 6, 4)\n",
    "quadratic_equation(0, 0, 0)\n",
    "quadratic_equation(0, 0, 3)"
   ]
  },
  {
   "cell_type": "code",
   "execution_count": null,
   "metadata": {},
   "outputs": [],
   "source": []
  }
 ],
 "metadata": {
  "kernelspec": {
   "display_name": "aio",
   "language": "python",
   "name": "python3"
  },
  "language_info": {
   "codemirror_mode": {
    "name": "ipython",
    "version": 3
   },
   "file_extension": ".py",
   "mimetype": "text/x-python",
   "name": "python",
   "nbconvert_exporter": "python",
   "pygments_lexer": "ipython3",
   "version": "3.11.8"
  }
 },
 "nbformat": 4,
 "nbformat_minor": 2
}
