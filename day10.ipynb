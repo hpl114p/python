{
 "cells": [
  {
   "cell_type": "markdown",
   "metadata": {},
   "source": [
    "Câu 1: Hãy viết chương trình tạo Numpy array, Tensorflow tensor, Pytorch tensor từ danh sách 1 chiều?"
   ]
  },
  {
   "cell_type": "code",
   "execution_count": 1,
   "metadata": {},
   "outputs": [],
   "source": [
    "import numpy as np\n",
    "import torch \n",
    "import tensorflow as tf"
   ]
  },
  {
   "cell_type": "code",
   "execution_count": 2,
   "metadata": {},
   "outputs": [
    {
     "name": "stdout",
     "output_type": "stream",
     "text": [
      "[1 2 3]\n",
      "tensor([1, 2, 3])\n",
      "tf.Tensor([1 2 3], shape=(3,), dtype=int32)\n"
     ]
    }
   ],
   "source": [
    "data_1D = [1, 2, 3]\n",
    "\n",
    "array_1D = np.array(data_1D)\n",
    "print(array_1D)\n",
    "\n",
    "tensor_1D_pt = torch.tensor(data_1D)\n",
    "print(tensor_1D_pt)\n",
    "\n",
    "tensor_1D_tf = tf.constant(data_1D)\n",
    "print(tensor_1D_tf)"
   ]
  },
  {
   "cell_type": "code",
   "execution_count": 5,
   "metadata": {},
   "outputs": [
    {
     "name": "stdout",
     "output_type": "stream",
     "text": [
      "tensor(14)\n",
      "tf.Tensor([-13 -26 -39], shape=(3,), dtype=int32)\n"
     ]
    }
   ],
   "source": [
    "# Các thư viện có thể chuyển đổi lẫn nhau trong quá trình tính toán\n",
    "print(tensor_1D_pt @ array_1D)  # Nhân ma trận giữa pytorch và numpy. Đầu ra là một scalar\n",
    "\n",
    "### Đầu ra của kết quả sẽ theo thứ tự ưu tiên Tensorflow > Pytorch > Numpy\n",
    "result = tensor_1D_tf - (tensor_1D_pt @ array_1D) * array_1D\n",
    "print(result)"
   ]
  },
  {
   "cell_type": "markdown",
   "metadata": {},
   "source": [
    "Câu 2: Hãy viết chương trình tạo Numypy array, Tensorflow tensor, Pytorch tensor từ danh sách 2 chiều. Sau đó thực hiện kiểm tra thuộc tính shape, dtype, type, device từ các array, tensor vừa tạo?"
   ]
  },
  {
   "cell_type": "code",
   "execution_count": 15,
   "metadata": {},
   "outputs": [
    {
     "name": "stdout",
     "output_type": "stream",
     "text": [
      "[[1 2 3]\n",
      " [4 5 6]]\n",
      "Kich thuoc cua mang numpy:  (2, 3)\n",
      "Kieu du lieu cua numpy:  int32\n",
      "Loai cua numpy:  <class 'numpy.ndarray'>\n",
      "\n",
      "tensor([[1, 2, 3],\n",
      "        [4, 5, 6]], dtype=torch.int32)\n",
      "Kich thuoc cua tensor:  torch.Size([2, 3])\n",
      "Kieu du lieu cua tensor:  torch.int32\n",
      "Loai cua tensor:  <class 'torch.Tensor'>\n",
      "Thiet bi luu tru cua tensor:  cpu\n",
      "\n",
      "tf.Tensor(\n",
      "[[1 2 3]\n",
      " [4 5 6]], shape=(2, 3), dtype=int32)\n",
      "Kich thuoc cua tensor:  (2, 3)\n",
      "Kieu du lieu cua tensor:  <dtype: 'int32'>\n",
      "Loai cua tensor:  <class 'tensorflow.python.framework.ops.EagerTensor'>\n",
      "Thiet bi luu tru cua tensor:  /job:localhost/replica:0/task:0/device:CPU:0\n"
     ]
    }
   ],
   "source": [
    "data_2D = [[1, 2, 3], [4, 5, 6]]\n",
    "\n",
    "array_2D = np.array(data_2D)\n",
    "print(array_2D)\n",
    "print(\"Kich thuoc cua mang numpy: \", array_2D.shape)\n",
    "print(\"Kieu du lieu cua numpy: \", array_2D.dtype)\n",
    "print(\"Loai cua numpy: \", type(array_2D), end=\"\\n\\n\")\n",
    "\n",
    "tensor_2D_pt = torch.tensor(array_2D)\n",
    "print(tensor_2D_pt)\n",
    "print(\"Kich thuoc cua tensor: \", tensor_2D_pt.shape)\n",
    "print(\"Kieu du lieu cua tensor: \", tensor_2D_pt.dtype)\n",
    "print(\"Loai cua tensor: \", type(tensor_2D_pt))\n",
    "print(\"Thiet bi luu tru cua tensor: \", tensor_2D_pt.device, end=\"\\n\\n\")\n",
    "\n",
    "tensor_2D_tf = tf.constant(array_2D)\n",
    "print(tensor_2D_tf)\n",
    "print(\"Kich thuoc cua tensor: \", tensor_2D_tf.shape)\n",
    "print(\"Kieu du lieu cua tensor: \", tensor_2D_tf.dtype)\n",
    "print(\"Loai cua tensor: \", type(tensor_2D_tf))\n",
    "print(\"Thiet bi luu tru cua tensor: \", tensor_2D_tf.device)\n"
   ]
  },
  {
   "cell_type": "code",
   "execution_count": null,
   "metadata": {},
   "outputs": [],
   "source": []
  }
 ],
 "metadata": {
  "kernelspec": {
   "display_name": "aio",
   "language": "python",
   "name": "python3"
  },
  "language_info": {
   "codemirror_mode": {
    "name": "ipython",
    "version": 3
   },
   "file_extension": ".py",
   "mimetype": "text/x-python",
   "name": "python",
   "nbconvert_exporter": "python",
   "pygments_lexer": "ipython3",
   "version": "3.11.8"
  }
 },
 "nbformat": 4,
 "nbformat_minor": 2
}
