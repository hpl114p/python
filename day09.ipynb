{
 "cells": [
  {
   "cell_type": "markdown",
   "metadata": {},
   "source": [
    "Câu 1: Tạo mới một List có tên là lst_data, gồm các số từ 1 đến 10"
   ]
  },
  {
   "cell_type": "code",
   "execution_count": 1,
   "metadata": {},
   "outputs": [
    {
     "name": "stdout",
     "output_type": "stream",
     "text": [
      "[1, 2, 3, 4, 5, 6, 7, 8, 9, 10]\n"
     ]
    }
   ],
   "source": [
    "lst_data = list()\n",
    "\n",
    "for i in range(1, 11):\n",
    "    lst_data.append(i)\n",
    "\n",
    "print(lst_data)"
   ]
  },
  {
   "cell_type": "markdown",
   "metadata": {},
   "source": [
    "Câu 2: Tính giá trị Trung vị từ lst_data vừa tạo. (Không sử dụng numpy)"
   ]
  },
  {
   "cell_type": "code",
   "execution_count": 17,
   "metadata": {},
   "outputs": [
    {
     "name": "stdout",
     "output_type": "stream",
     "text": [
      "5.5\n"
     ]
    }
   ],
   "source": [
    "lst_data = sorted(lst_data)\n",
    "median = 0\n",
    "if(len(lst_data) % 2 == 0):\n",
    "    median = (lst_data[int(len(lst_data) / 2)] + lst_data[int(len(lst_data) / 2) - 1]) / 2\n",
    "else:\n",
    "    median = lst_data[len(lst_data) / 2]\n",
    "\n",
    "print(median)"
   ]
  },
  {
   "cell_type": "markdown",
   "metadata": {},
   "source": [
    "Câu 3: Lọc các giá trị số lẻ trong lst_data và lưu ra list mới có tên là: lst_odd_filter với thứ tự giảm dần (Sử dụng phương thức reverse=True trong hàm sort/sorted)"
   ]
  },
  {
   "cell_type": "code",
   "execution_count": 18,
   "metadata": {},
   "outputs": [
    {
     "name": "stdout",
     "output_type": "stream",
     "text": [
      "[9, 7, 5, 3, 1]\n"
     ]
    }
   ],
   "source": [
    "lst_odd_filter = list()\n",
    "\n",
    "for i in lst_data:\n",
    "    if(i % 2 != 0):\n",
    "        lst_odd_filter.append(i)\n",
    "    \n",
    "lst_odd_filter.sort(reverse=True)\n",
    "print(lst_odd_filter)"
   ]
  },
  {
   "cell_type": "code",
   "execution_count": null,
   "metadata": {},
   "outputs": [],
   "source": []
  }
 ],
 "metadata": {
  "kernelspec": {
   "display_name": "aio",
   "language": "python",
   "name": "python3"
  },
  "language_info": {
   "codemirror_mode": {
    "name": "ipython",
    "version": 3
   },
   "file_extension": ".py",
   "mimetype": "text/x-python",
   "name": "python",
   "nbconvert_exporter": "python",
   "pygments_lexer": "ipython3",
   "version": "3.11.8"
  }
 },
 "nbformat": 4,
 "nbformat_minor": 2
}
